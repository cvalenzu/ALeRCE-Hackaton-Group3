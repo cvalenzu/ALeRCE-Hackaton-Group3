{
 "cells": [
  {
   "cell_type": "code",
   "execution_count": 1,
   "metadata": {},
   "outputs": [],
   "source": [
    "import numpy as np\n",
    "import pandas as pd\n",
    "from late_classifier.features.preprocess import DetectionsPreprocessorZTF\n",
    "from late_classifier.features.extractors import HierarchicalFeaturesComputer\n",
    "from late_classifier.classifier.models import BaselineRandomForest\n",
    "from late_classifier.classifier.metrics import kaggle_score, confusion_matrix\n",
    "import matplotlib.pyplot as plt\n",
    "from imblearn.over_sampling import SMOTE\n",
    "from sklearn.preprocessing import MinMaxScaler\n",
    "\n",
    "%matplotlib inline"
   ]
  },
  {
   "cell_type": "markdown",
   "metadata": {},
   "source": [
    "## Load and inspect the training set"
   ]
  },
  {
   "cell_type": "code",
   "execution_count": 2,
   "metadata": {},
   "outputs": [],
   "source": [
    "train_labels = pd.read_csv(\n",
    "    'train_labels.csv', sep=',', na_values=['Infinity']\n",
    ")\n",
    "train_labels.set_index('challenge_oid', inplace=True)\n",
    "drop_cols = [\"Mean_1\",\"Mean_2\",\"delta_mag_fid_1\",\"delta_mag_fid_2\",\"n_det_1\",\"n_det_2\",\"n_neg_1\",\"n_neg_2\", \"n_pos_1\", \"n_pos_2\", \"mean_mag_1\",\"mean_mag_2\"]"
   ]
  },
  {
   "cell_type": "code",
   "execution_count": 3,
   "metadata": {},
   "outputs": [],
   "source": [
    "features = pd.read_pickle('train_features.pkl')\n",
    "wise = pd.read_csv(\"WISE_data_4_hackathon_with_IDs.csv\")\n",
    "features = features.join(wise.loc[features.index])\n",
    "features.drop(columns=drop_cols,inplace=True)"
   ]
  },
  {
   "cell_type": "code",
   "execution_count": 4,
   "metadata": {},
   "outputs": [],
   "source": [
    "train_labels = train_labels.loc[features.index.values]#.copy()\n",
    "features = features.loc[train_labels.index.values]#.copy()"
   ]
  },
  {
   "cell_type": "code",
   "execution_count": 5,
   "metadata": {},
   "outputs": [
    {
     "name": "stderr",
     "output_type": "stream",
     "text": [
      " /home/tronco/anaconda3/lib/python3.7/site-packages/sklearn/preprocessing/data.py:334: DataConversionWarning:Data with input dtype int64, float64 were all converted to float64 by MinMaxScaler.\n"
     ]
    }
   ],
   "source": [
    "scaler = MinMaxScaler()\n",
    "features = pd.DataFrame(scaler.fit_transform(features), index=features.index, columns=features.columns)"
   ]
  },
  {
   "cell_type": "code",
   "execution_count": 12,
   "metadata": {},
   "outputs": [],
   "source": [
    "features = features+1\n",
    "features = features.replace(np.nan,-1)"
   ]
  },
  {
   "cell_type": "code",
   "execution_count": 13,
   "metadata": {},
   "outputs": [
    {
     "name": "stderr",
     "output_type": "stream",
     "text": [
      " /home/tronco/anaconda3/lib/python3.7/site-packages/sklearn/utils/validation.py:761: DataConversionWarning:A column-vector y was passed when a 1d array was expected. Please change the shape of y to (n_samples, ), for example using ravel().\n"
     ]
    }
   ],
   "source": [
    "smote = SMOTE()\n",
    "X_resampled, y_resampled = smote.fit_resample(features,train_labels)"
   ]
  },
  {
   "cell_type": "code",
   "execution_count": 14,
   "metadata": {},
   "outputs": [],
   "source": [
    "test_features = pd.read_pickle(\"test_features.pkl\")\n",
    "test_features = test_features.join(wise.loc[test_features.index])\n",
    "test_features.drop(columns=drop_cols,inplace=True)\n",
    "\n",
    "test_features = pd.DataFrame(scaler.transform(test_features), index=test_features.index, columns=test_features.columns)"
   ]
  },
  {
   "cell_type": "markdown",
   "metadata": {},
   "source": [
    "## Train random forest"
   ]
  },
  {
   "cell_type": "code",
   "execution_count": 15,
   "metadata": {},
   "outputs": [],
   "source": [
    "X_resampled = pd.DataFrame(X_resampled,columns=features.columns)\n",
    "y_resampled = pd.DataFrame(y_resampled,columns=train_labels.columns)"
   ]
  },
  {
   "cell_type": "code",
   "execution_count": 17,
   "metadata": {},
   "outputs": [],
   "source": [
    "baseline_random_forest = BaselineRandomForest()\n",
    "baseline_random_forest.random_forest_classifier.max_depth=10\n",
    "baseline_random_forest.random_forest_classifier.n_jobs=-1\n",
    "baseline_random_forest.fit(X_resampled, y_resampled)\n",
    "train_prediction_proba = baseline_random_forest.predict_proba(features)\n",
    "kaggle_score_value = kaggle_score(train_prediction_proba, train_labels)"
   ]
  },
  {
   "cell_type": "code",
   "execution_count": 18,
   "metadata": {},
   "outputs": [
    {
     "data": {
      "text/plain": [
       "0.566277116984665"
      ]
     },
     "execution_count": 18,
     "metadata": {},
     "output_type": "execute_result"
    }
   ],
   "source": [
    "kaggle_score_value"
   ]
  },
  {
   "cell_type": "code",
   "execution_count": 20,
   "metadata": {},
   "outputs": [],
   "source": [
    "test_probs = baseline_random_forest.predict_proba(test_features)"
   ]
  },
  {
   "cell_type": "code",
   "execution_count": 23,
   "metadata": {},
   "outputs": [],
   "source": [
    "test_probs.index.name = \"challenge_oid\""
   ]
  },
  {
   "cell_type": "code",
   "execution_count": 25,
   "metadata": {},
   "outputs": [],
   "source": [
    "test_probs[\"Oulier\"] = 1/15"
   ]
  },
  {
   "cell_type": "code",
   "execution_count": 26,
   "metadata": {},
   "outputs": [],
   "source": [
    "test_probs.to_csv(\"smote_rf.csv\")"
   ]
  },
  {
   "cell_type": "code",
   "execution_count": null,
   "metadata": {},
   "outputs": [],
   "source": []
  }
 ],
 "metadata": {
  "kernelspec": {
   "display_name": "Python 3",
   "language": "python",
   "name": "python3"
  },
  "language_info": {
   "codemirror_mode": {
    "name": "ipython",
    "version": 3
   },
   "file_extension": ".py",
   "mimetype": "text/x-python",
   "name": "python",
   "nbconvert_exporter": "python",
   "pygments_lexer": "ipython3",
   "version": "3.7.3"
  }
 },
 "nbformat": 4,
 "nbformat_minor": 2
}
