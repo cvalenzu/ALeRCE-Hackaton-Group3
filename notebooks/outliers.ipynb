{
 "cells": [
  {
   "cell_type": "code",
   "execution_count": 29,
   "metadata": {},
   "outputs": [],
   "source": [
    "import pandas as pd\n",
    "import numpy as np\n",
    "import matplotlib.pyplot as plt\n",
    "import sklearn\n",
    "import sklearn.ensemble\n",
    "import sklearn.impute\n",
    "import sklearn.preprocessing\n",
    "import sklearn.pipeline\n",
    "import umap \n",
    "\n",
    "features = pd.read_pickle(\"../train_features.pkl\")\n",
    "labels = pd.read_csv(\"../train_labels.csv\",index_col=\"challenge_oid\")\n",
    "features.index.name = \"challenge_oid\"\n",
    "features_original = features.join(labels)\n",
    "features_original = features_original[~pd.isna(features_original[\"classALeRCE\"])]\n",
    "\n",
    "features_test = pd.read_pickle(\"../test_features.pkl\")\n",
    "features_wise = pd.read_csv(\"../WISE_data_4_hackathon_with_IDs.csv\")\n",
    "\n",
    "#join wise with train\n",
    "#features_original = features_original.join(features_wise)#, on=\"challenge_oid\")\n",
    "#features_test = features_test.join(features_wise)#, on=\"challenge_oid\")\n",
    "#join wise with test"
   ]
  },
  {
   "cell_type": "code",
   "execution_count": 30,
   "metadata": {},
   "outputs": [
    {
     "name": "stderr",
     "output_type": "stream",
     "text": [
      "C:\\Users\\Alexis\\Anaconda3\\envs\\ds\\lib\\site-packages\\numba\\typed_passes.py:271: NumbaPerformanceWarning: \u001b[1m\n",
      "The keyword argument 'parallel=True' was specified but no transformation for parallel execution was possible.\n",
      "\n",
      "To find out why, try turning on parallel diagnostics, see http://numba.pydata.org/numba-doc/latest/user/parallel.html#diagnostics for help.\n",
      "\u001b[1m\n",
      "File \"..\\..\\..\\..\\..\\..\\Anaconda3\\envs\\ds\\lib\\site-packages\\umap\\nndescent.py\", line 47:\u001b[0m\n",
      "\u001b[1m    @numba.njit(parallel=True)\n",
      "\u001b[1m    def nn_descent(\n",
      "\u001b[0m    \u001b[1m^\u001b[0m\u001b[0m\n",
      "\u001b[0m\n",
      "  state.func_ir.loc))\n"
     ]
    },
    {
     "data": {
      "text/plain": [
       "Pipeline(memory=None,\n",
       "         steps=[('simpleimputer',\n",
       "                 SimpleImputer(add_indicator=False, copy=True, fill_value=None,\n",
       "                               missing_values=nan, strategy='median',\n",
       "                               verbose=0)),\n",
       "                ('minmaxscaler', MinMaxScaler(copy=True, feature_range=(0, 1))),\n",
       "                ('umap',\n",
       "                 UMAP(a=None, angular_rp_forest=False, b=None, init='spectral',\n",
       "                      learning_rate=1.0, local_connectivity=1.0,\n",
       "                      metric='euclidean', metric_kwds=None, min_dist=0.1,\n",
       "                      n_components=10, n_epochs=None, n_neighbors=15,\n",
       "                      negative_sample_rate=5, random_state=None,\n",
       "                      repulsion_strength=1.0, set_op_mix_ratio=1.0, spread=1.0,\n",
       "                      target_metric='categorical', target_metric_kwds=None,\n",
       "                      target_n_neighbors=-1, target_weight=0.5,\n",
       "                      transform_queue_size=4.0, transform_seed=42,\n",
       "                      verbose=False))],\n",
       "         verbose=False)"
      ]
     },
     "execution_count": 30,
     "metadata": {},
     "output_type": "execute_result"
    }
   ],
   "source": [
    "preprocess_pipeline = sklearn.pipeline.make_pipeline(\n",
    "    sklearn.impute.SimpleImputer(strategy=\"median\"),\n",
    "    sklearn.preprocessing.MinMaxScaler(),\n",
    "    umap.UMAP(n_components=10),\n",
    ")\n",
    "train_data = features.join(labels)\n",
    "label_encoder = sklearn.preprocessing.LabelEncoder()\n",
    "num_labels = label_encoder.fit_transform(train_data[\"classALeRCE\"])\n",
    "preprocess_pipeline.fit(train_data.drop(\"classALeRCE\", axis=1), num_labels)"
   ]
  },
  {
   "cell_type": "code",
   "execution_count": 31,
   "metadata": {},
   "outputs": [
    {
     "name": "stderr",
     "output_type": "stream",
     "text": [
      "C:\\Users\\Alexis\\Anaconda3\\envs\\ds\\lib\\site-packages\\numba\\typed_passes.py:271: NumbaPerformanceWarning: \u001b[1m\n",
      "The keyword argument 'parallel=True' was specified but no transformation for parallel execution was possible.\n",
      "\n",
      "To find out why, try turning on parallel diagnostics, see http://numba.pydata.org/numba-doc/latest/user/parallel.html#diagnostics for help.\n",
      "\u001b[1m\n",
      "File \"..\\..\\..\\..\\..\\..\\Anaconda3\\envs\\ds\\lib\\site-packages\\umap\\nndescent.py\", line 124:\u001b[0m\n",
      "\u001b[1m    @numba.njit(parallel=True)\n",
      "\u001b[1m    def init_from_random(n_neighbors, data, query_points, heap, rng_state):\n",
      "\u001b[0m    \u001b[1m^\u001b[0m\u001b[0m\n",
      "\u001b[0m\n",
      "  state.func_ir.loc))\n",
      "C:\\Users\\Alexis\\Anaconda3\\envs\\ds\\lib\\site-packages\\numba\\typed_passes.py:271: NumbaPerformanceWarning: \u001b[1m\n",
      "The keyword argument 'parallel=True' was specified but no transformation for parallel execution was possible.\n",
      "\n",
      "To find out why, try turning on parallel diagnostics, see http://numba.pydata.org/numba-doc/latest/user/parallel.html#diagnostics for help.\n",
      "\u001b[1m\n",
      "File \"..\\..\\..\\..\\..\\..\\Anaconda3\\envs\\ds\\lib\\site-packages\\umap\\nndescent.py\", line 135:\u001b[0m\n",
      "\u001b[1m    @numba.njit(parallel=True)\n",
      "\u001b[1m    def init_from_tree(tree, data, query_points, heap, rng_state):\n",
      "\u001b[0m    \u001b[1m^\u001b[0m\u001b[0m\n",
      "\u001b[0m\n",
      "  state.func_ir.loc))\n"
     ]
    }
   ],
   "source": [
    "transformed_train = preprocess_pipeline.transform(train_data.drop(\"classALeRCE\", axis=1))\n",
    "transformed_test = preprocess_pipeline.transform(features_test)"
   ]
  },
  {
   "cell_type": "code",
   "execution_count": 32,
   "metadata": {},
   "outputs": [
    {
     "data": {
      "text/plain": [
       "IsolationForest(behaviour='deprecated', bootstrap=False, contamination='auto',\n",
       "                max_features=1.0, max_samples='auto', n_estimators=400,\n",
       "                n_jobs=-1, random_state=None, verbose=0, warm_start=False)"
      ]
     },
     "execution_count": 32,
     "metadata": {},
     "output_type": "execute_result"
    }
   ],
   "source": [
    "isolation_forest = sklearn.ensemble.IsolationForest(n_estimators=400, n_jobs=-1)\n",
    "isolation_forest.fit(transformed_train)"
   ]
  },
  {
   "cell_type": "code",
   "execution_count": 44,
   "metadata": {},
   "outputs": [
    {
     "data": {
      "text/plain": [
       "Text(0.5, 1.0, 'outliers score minmax')"
      ]
     },
     "execution_count": 44,
     "metadata": {},
     "output_type": "execute_result"
    },
    {
     "data": {
      "image/png": "[encoded data removed]",
      "text/plain": [
       "<Figure size 432x288 with 1 Axes>"
      ]
     },
     "metadata": {
      "needs_background": "light"
     },
     "output_type": "display_data"
    }
   ],
   "source": [
    "if_out = isolation_forest.predict(transformed_test)\n",
    "scores = isolation_forest.score_samples(transformed_test)\n",
    "norm_scores = sklearn.preprocessing.MinMaxScaler().fit_transform(-scores.reshape(-1, 1))\n",
    "_ = plt.hist(norm_scores, bins=\"auto\")\n",
    "plt.title(\"outliers score minmax\")"
   ]
  },
  {
   "cell_type": "code",
   "execution_count": 62,
   "metadata": {},
   "outputs": [],
   "source": [
    "outlier_df = pd.DataFrame(1.2*norm_scores, columns=[\"Outlier\"])#\n",
    "outlier_df[\"challenge_oid\"] = features_test.index\n",
    "outlier_df.to_csv(\"outliers_if.csv\", index=False)"
   ]
  },
  {
   "cell_type": "code",
   "execution_count": 63,
   "metadata": {},
   "outputs": [],
   "source": [
    "if_out_train = isolation_forest.predict(transformed_train)\n",
    "train_scores = isolation_forest.score_samples(transformed_train)\n",
    "norm_train_scores = sklearn.preprocessing.MinMaxScaler().fit_transform(-train_scores.reshape(-1, 1))"
   ]
  },
  {
   "cell_type": "code",
   "execution_count": 64,
   "metadata": {},
   "outputs": [
    {
     "data": {
      "text/plain": [
       "Text(0.5, 1.0, 'outlier in train set')"
      ]
     },
     "execution_count": 64,
     "metadata": {},
     "output_type": "execute_result"
    },
    {
     "data": {
      "image/png": "[encoded data removed]",
      "text/plain": [
       "<Figure size 432x288 with 1 Axes>"
      ]
     },
     "metadata": {
      "needs_background": "light"
     },
     "output_type": "display_data"
    }
   ],
   "source": [
    "_ = plt.hist(norm_train_scores)\n",
    "plt.title(\"outlier in train set\")"
   ]
  },
  {
   "cell_type": "code",
   "execution_count": 65,
   "metadata": {},
   "outputs": [],
   "source": [
    "dec_function = isolation_forest.decision_function(transformed_test)\n",
    "original_paper_score = np.array([-1*s + 0.5 for s in dec_function])\n",
    "\n",
    "outlier_df_scores = pd.DataFrame(1.1*original_paper_score, columns=[\"Outlier\"])#\n",
    "outlier_df_scores[\"challenge_oid\"] = features_test.index\n",
    "outlier_df_scores.to_csv(\"outliers_new.csv\", index=False)"
   ]
  },
  {
   "cell_type": "code",
   "execution_count": 66,
   "metadata": {},
   "outputs": [
    {
     "data": {
      "text/plain": [
       "Text(0.5, 1.0, 'outliers scores -modified-')"
      ]
     },
     "execution_count": 66,
     "metadata": {},
     "output_type": "execute_result"
    },
    {
     "data": {
      "image/png": "[encoded data removed]",
      "text/plain": [
       "<Figure size 432x288 with 1 Axes>"
      ]
     },
     "metadata": {
      "needs_background": "light"
     },
     "output_type": "display_data"
    }
   ],
   "source": [
    "_ = plt.hist(1.1*np.array(original_paper_score), bins=\"auto\")\n",
    "plt.title(\"outliers scores -modified-\")"
   ]
  },
  {
   "cell_type": "code",
   "execution_count": 67,
   "metadata": {},
   "outputs": [
    {
     "data": {
      "text/plain": [
       "array([0.50511158, 0.50558042, 0.47016437, ..., 0.46272114, 0.46285586,\n",
       "       0.46729569])"
      ]
     },
     "execution_count": 67,
     "metadata": {},
     "output_type": "execute_result"
    }
   ],
   "source": [
    "np.array(original_paper_score)"
   ]
  },
  {
   "cell_type": "code",
   "execution_count": null,
   "metadata": {},
   "outputs": [],
   "source": []
  },
  {
   "cell_type": "code",
   "execution_count": null,
   "metadata": {},
   "outputs": [],
   "source": []
  }
 ],
 "metadata": {
  "kernelspec": {
   "display_name": "Python 3",
   "language": "python",
   "name": "python3"
  },
  "language_info": {
   "codemirror_mode": {
    "name": "ipython",
    "version": 3
   },
   "file_extension": ".py",
   "mimetype": "text/x-python",
   "name": "python",
   "nbconvert_exporter": "python",
   "pygments_lexer": "ipython3",
   "version": "3.6.7"
  }
 },
 "nbformat": 4,
 "nbformat_minor": 2
}
