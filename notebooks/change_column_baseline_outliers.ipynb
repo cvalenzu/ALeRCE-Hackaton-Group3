{
 "cells": [
  {
   "cell_type": "code",
   "execution_count": 46,
   "metadata": {},
   "outputs": [],
   "source": [
    "import pandas as pd\n",
    "import numpy as np\n",
    "import matplotlib.pyplot as plt\n",
    "import sklearn"
   ]
  },
  {
   "cell_type": "code",
   "execution_count": 62,
   "metadata": {},
   "outputs": [
    {
     "data": {
      "text/plain": [
       "(array([    0., 11058.,     0.,     0.,     0.,     0.,     0.,     0.,\n",
       "            0.,     0.,     0.,     0.,     0.,     0.,     0.,     0.,\n",
       "            0., 67023.]),\n",
       " array([0.09090909, 0.09090909, 0.09090909, 0.09090909, 0.09090909,\n",
       "        0.09090909, 0.09090909, 0.09090909, 0.09090909, 0.09090909,\n",
       "        0.09090909, 0.09090909, 0.09090909, 0.09090909, 0.09090909,\n",
       "        0.09090909, 0.09090909, 0.09090909, 0.09090909]),\n",
       " <a list of 18 Patch objects>)"
      ]
     },
     "execution_count": 62,
     "metadata": {},
     "output_type": "execute_result"
    },
    {
     "data": {
      "image/png": "[encoded data removed]",
      "text/plain": [
       "<Figure size 432x288 with 1 Axes>"
      ]
     },
     "metadata": {
      "needs_background": "light"
     },
     "output_type": "display_data"
    }
   ],
   "source": [
    "baseline_scores = pd.read_csv(\"aug_baseline.csv\")\n",
    "outliers = pd.read_csv(\"outliers_new.csv\")\n",
    "plt.hist((baseline_scores[\"Outlier\"]), bins=\"auto\")"
   ]
  },
  {
   "cell_type": "code",
   "execution_count": 63,
   "metadata": {},
   "outputs": [],
   "source": [
    "baseline_scores[\"Outlier\"] = outliers[\"Outlier\"]"
   ]
  },
  {
   "cell_type": "code",
   "execution_count": 64,
   "metadata": {},
   "outputs": [
    {
     "data": {
      "text/plain": [
       "(array([1.000e+00, 0.000e+00, 4.000e+00, 2.000e+00, 1.000e+01, 1.300e+01,\n",
       "        2.900e+01, 3.100e+01, 4.200e+01, 5.800e+01, 7.500e+01, 9.900e+01,\n",
       "        1.400e+02, 2.230e+02, 2.750e+02, 3.670e+02, 4.090e+02, 4.870e+02,\n",
       "        6.930e+02, 9.420e+02, 1.308e+03, 2.052e+03, 4.559e+03, 5.247e+03,\n",
       "        6.415e+03, 6.570e+03, 6.062e+03, 4.916e+03, 4.179e+03, 3.228e+03,\n",
       "        2.425e+03, 1.804e+03, 1.360e+03, 1.032e+03, 7.540e+02, 5.500e+02,\n",
       "        3.910e+02, 2.820e+02, 2.280e+02, 1.850e+02, 1.440e+02, 1.030e+02,\n",
       "        1.130e+02, 1.390e+02, 2.520e+02, 4.140e+02, 6.460e+02, 8.500e+02,\n",
       "        1.183e+03, 1.271e+03, 1.000e+03, 8.900e+02, 9.400e+02, 8.780e+02,\n",
       "        8.450e+02, 7.980e+02, 7.080e+02, 7.440e+02, 7.870e+02, 7.990e+02,\n",
       "        7.960e+02, 7.590e+02, 7.330e+02, 5.690e+02, 5.340e+02, 5.830e+02,\n",
       "        4.830e+02, 3.730e+02, 3.250e+02, 2.840e+02, 2.360e+02, 2.140e+02,\n",
       "        2.130e+02, 1.840e+02, 1.580e+02, 1.340e+02, 1.150e+02, 9.300e+01,\n",
       "        6.800e+01, 4.700e+01, 5.700e+01, 3.600e+01, 2.400e+01, 2.400e+01,\n",
       "        1.800e+01, 1.600e+01, 2.000e+01, 1.000e+01, 6.000e+00, 3.000e+00,\n",
       "        2.000e+00, 4.000e+00, 1.000e+00, 1.000e+00, 5.000e+00, 0.000e+00,\n",
       "        1.000e+00, 0.000e+00, 0.000e+00, 0.000e+00, 0.000e+00, 0.000e+00,\n",
       "        0.000e+00, 0.000e+00, 0.000e+00, 0.000e+00, 0.000e+00, 0.000e+00,\n",
       "        0.000e+00, 0.000e+00, 0.000e+00, 0.000e+00, 0.000e+00, 0.000e+00,\n",
       "        0.000e+00, 0.000e+00, 0.000e+00, 1.000e+00]),\n",
       " array([0.47771972, 0.47896394, 0.48020816, 0.48145238, 0.4826966 ,\n",
       "        0.48394083, 0.48518505, 0.48642927, 0.48767349, 0.48891772,\n",
       "        0.49016194, 0.49140616, 0.49265038, 0.49389461, 0.49513883,\n",
       "        0.49638305, 0.49762727, 0.49887149, 0.50011572, 0.50135994,\n",
       "        0.50260416, 0.50384838, 0.50509261, 0.50633683, 0.50758105,\n",
       "        0.50882527, 0.51006949, 0.51131372, 0.51255794, 0.51380216,\n",
       "        0.51504638, 0.51629061, 0.51753483, 0.51877905, 0.52002327,\n",
       "        0.52126749, 0.52251172, 0.52375594, 0.52500016, 0.52624438,\n",
       "        0.52748861, 0.52873283, 0.52997705, 0.53122127, 0.5324655 ,\n",
       "        0.53370972, 0.53495394, 0.53619816, 0.53744238, 0.53868661,\n",
       "        0.53993083, 0.54117505, 0.54241927, 0.5436635 , 0.54490772,\n",
       "        0.54615194, 0.54739616, 0.54864038, 0.54988461, 0.55112883,\n",
       "        0.55237305, 0.55361727, 0.5548615 , 0.55610572, 0.55734994,\n",
       "        0.55859416, 0.55983839, 0.56108261, 0.56232683, 0.56357105,\n",
       "        0.56481527, 0.5660595 , 0.56730372, 0.56854794, 0.56979216,\n",
       "        0.57103639, 0.57228061, 0.57352483, 0.57476905, 0.57601327,\n",
       "        0.5772575 , 0.57850172, 0.57974594, 0.58099016, 0.58223439,\n",
       "        0.58347861, 0.58472283, 0.58596705, 0.58721127, 0.5884555 ,\n",
       "        0.58969972, 0.59094394, 0.59218816, 0.59343239, 0.59467661,\n",
       "        0.59592083, 0.59716505, 0.59840928, 0.5996535 , 0.60089772,\n",
       "        0.60214194, 0.60338616, 0.60463039, 0.60587461, 0.60711883,\n",
       "        0.60836305, 0.60960728, 0.6108515 , 0.61209572, 0.61333994,\n",
       "        0.61458416, 0.61582839, 0.61707261, 0.61831683, 0.61956105,\n",
       "        0.62080528, 0.6220495 , 0.62329372, 0.62453794]),\n",
       " <a list of 118 Patch objects>)"
      ]
     },
     "execution_count": 64,
     "metadata": {},
     "output_type": "execute_result"
    },
    {
     "data": {
      "image/png": "[encoded data removed]",
      "text/plain": [
       "<Figure size 432x288 with 1 Axes>"
      ]
     },
     "metadata": {
      "needs_background": "light"
     },
     "output_type": "display_data"
    }
   ],
   "source": [
    "plt.hist(outliers[\"Outlier\"], bins=\"auto\")"
   ]
  },
  {
   "cell_type": "code",
   "execution_count": 65,
   "metadata": {},
   "outputs": [],
   "source": [
    "baseline_scores = baseline_scores.set_index(\"challenge_oid\")\n",
    "baseline_scores = (baseline_scores/baseline_scores.sum(axis=1).values.reshape(-1, 1)).reset_index()"
   ]
  },
  {
   "cell_type": "code",
   "execution_count": 66,
   "metadata": {},
   "outputs": [],
   "source": [
    "baseline_scores.to_csv(\"aug_baseline_out.csv\", index=False)"
   ]
  },
  {
   "cell_type": "code",
   "execution_count": null,
   "metadata": {},
   "outputs": [],
   "source": []
  },
  {
   "cell_type": "code",
   "execution_count": null,
   "metadata": {},
   "outputs": [],
   "source": []
  },
  {
   "cell_type": "code",
   "execution_count": null,
   "metadata": {},
   "outputs": [],
   "source": []
  },
  {
   "cell_type": "code",
   "execution_count": null,
   "metadata": {},
   "outputs": [],
   "source": []
  },
  {
   "cell_type": "code",
   "execution_count": null,
   "metadata": {},
   "outputs": [],
   "source": []
  }
 ],
 "metadata": {
  "kernelspec": {
   "display_name": "Python 3",
   "language": "python",
   "name": "python3"
  },
  "language_info": {
   "codemirror_mode": {
    "name": "ipython",
    "version": 3
   },
   "file_extension": ".py",
   "mimetype": "text/x-python",
   "name": "python",
   "nbconvert_exporter": "python",
   "pygments_lexer": "ipython3",
   "version": "3.6.7"
  }
 },
 "nbformat": 4,
 "nbformat_minor": 2
}
