{
 "cells": [
  {
   "cell_type": "code",
   "execution_count": 118,
   "metadata": {},
   "outputs": [],
   "source": [
    "from imblearn.ensemble import BalancedRandomForestClassifier\n",
    "import pandas as pd\n",
    "import numpy as np\n",
    "from sklearn.preprocessing import LabelEncoder\n",
    "from sklearn.feature_selection import RFE\n",
    "import matplotlib.pyplot as plt\n",
    "from sklearn.preprocessing import MinMaxScaler\n",
    "from imblearn.keras import balanced_batch_generator\n",
    "from imblearn.over_sampling import RandomOverSampler\n",
    "import seaborn as sns\n",
    "import tensorflow as tf\n",
    "%matplotlib inline"
   ]
  },
  {
   "cell_type": "code",
   "execution_count": 98,
   "metadata": {},
   "outputs": [],
   "source": [
    "features = pd.read_pickle(\"train_features.pkl\")\n",
    "labels = pd.read_csv(\"train_labels.csv\",index_col=\"challenge_oid\")\n",
    "features.index.name = \"challenge_oid\"\n",
    "features = features.join(labels)"
   ]
  },
  {
   "cell_type": "code",
   "execution_count": 99,
   "metadata": {},
   "outputs": [],
   "source": [
    "labels = features[\"classALeRCE\"]\n",
    "del features[\"classALeRCE\"] "
   ]
  },
  {
   "cell_type": "code",
   "execution_count": 100,
   "metadata": {},
   "outputs": [],
   "source": [
    "maps = {\"SNIa\":0, \"SNII\":1, \"SNIbc\":2, \"RRL\":3, \n",
    "             \"EB\":4, \"DSCT\":5, \"Ceph\":6, \"Periodic-Other\":7, \n",
    "             \"AGN\":8, \"QSO\":9, \"YSO\":10, \"CV/Nova\":11, \"LPV\":12, \"Blazar\":13}\n",
    "\n",
    "colums = [\"SNIa\", \"SNII\", \"SNIbc\", \"RRL\", \n",
    "             \"EB\", \"DSCT\", \"Ceph\", \"Periodic-Other\", \n",
    "             \"AGN\", \"QSO\", \"YSO\", \"CV/Nova\", \"LPV\", \"Blazar\"]"
   ]
  },
  {
   "cell_type": "code",
   "execution_count": 101,
   "metadata": {},
   "outputs": [],
   "source": [
    "new_classes = []\n",
    "for old_class in labels.values:\n",
    "    new_classes.append(maps[old_class])"
   ]
  },
  {
   "cell_type": "code",
   "execution_count": 150,
   "metadata": {},
   "outputs": [],
   "source": [
    "inputs = tf.keras.layers.Input(len(features.columns)) \n",
    "\n",
    "layer1 = tf.keras.layers.Dense(128,activation=\"relu\")(inputs)\n",
    "layer2 = tf.keras.layers.Dense(64,activation=\"relu\")(layer1)\n",
    "layer3 = tf.keras.layers.Dense(32,activation=\"relu\")(layer2)\n",
    "\n",
    "layer_transient_1 = tf.keras.layers.Dense(16,activation=\"relu\")(layer3)\n",
    "layer_periodic_1 = tf.keras.layers.Dense(16,activation=\"relu\")(layer3)\n",
    "layer_stochastic_1 = tf.keras.layers.Dense(16,activation=\"relu\")(layer3)\n",
    "\n",
    "\n",
    "layer_transient_2 = tf.keras.layers.Dense(3,activation=\"sigmoid\")(layer_transient_1)\n",
    "layer_periodic_2 = tf.keras.layers.Dense(5,activation=\"sigmoid\")(layer_periodic_1)\n",
    "layer_stochastic_2 = tf.keras.layers.Dense(6,activation=\"sigmoid\")(layer_stochastic_1)\n",
    "\n",
    "outputs = tf.keras.layers.Concatenate()([layer_transient_2,layer_periodic_2, layer_stochastic_2])\n",
    "outputs = tf.keras.layers.Softmax()(outputs)\n",
    "\n",
    "model = tf.keras.models.Model(inputs=inputs, outputs=outputs)"
   ]
  },
  {
   "cell_type": "code",
   "execution_count": 151,
   "metadata": {},
   "outputs": [],
   "source": [
    "minmax = MinMaxScaler()\n",
    "minmax.fit(features)\n",
    "scaled_features = minmax.transform(features)\n",
    "scaled_features = scaled_features+1\n",
    "scaled_features = np.nan_to_num(scaled_features)-1 "
   ]
  },
  {
   "cell_type": "code",
   "execution_count": 152,
   "metadata": {},
   "outputs": [],
   "source": [
    "y = np.array(new_classes)\n",
    "y = tf.keras.utils.to_categorical(y)"
   ]
  },
  {
   "cell_type": "code",
   "execution_count": 153,
   "metadata": {},
   "outputs": [],
   "source": [
    "training_generator, steps_per_epoch = balanced_batch_generator(\n",
    "    scaled_features, y, sampler=RandomOverSampler(), batch_size=50, random_state=42)"
   ]
  },
  {
   "cell_type": "code",
   "execution_count": null,
   "metadata": {},
   "outputs": [
    {
     "name": "stdout",
     "output_type": "stream",
     "text": [
      "Epoch 1/50\n",
      "100/100 [==============================] - 3s 25ms/step - loss: 2.5439 - accuracy: 0.1444\n",
      "Epoch 2/50\n",
      "100/100 [==============================] - 2s 25ms/step - loss: 2.3410 - accuracy: 0.2630\n",
      "Epoch 3/50\n",
      "100/100 [==============================] - 2s 24ms/step - loss: 2.2536 - accuracy: 0.3136\n",
      "Epoch 4/50\n",
      "100/100 [==============================] - 2s 25ms/step - loss: 2.2119 - accuracy: 0.3302\n",
      "Epoch 5/50\n",
      "100/100 [==============================] - 3s 25ms/step - loss: 2.1865 - accuracy: 0.3386\n",
      "Epoch 6/50\n",
      "100/100 [==============================] - 2s 24ms/step - loss: 2.1656 - accuracy: 0.3704\n",
      "Epoch 7/50\n",
      "100/100 [==============================] - 3s 25ms/step - loss: 2.1565 - accuracy: 0.3854\n",
      "Epoch 8/50\n",
      "100/100 [==============================] - 3s 26ms/step - loss: 2.1508 - accuracy: 0.3940\n",
      "Epoch 9/50\n",
      "100/100 [==============================] - 2s 24ms/step - loss: 2.1318 - accuracy: 0.4110\n",
      "Epoch 10/50\n",
      "100/100 [==============================] - 2s 25ms/step - loss: 2.1328 - accuracy: 0.4140\n",
      "Epoch 11/50\n",
      "100/100 [==============================] - 2s 25ms/step - loss: 2.1273 - accuracy: 0.4170\n",
      "Epoch 12/50\n",
      "100/100 [==============================] - 2s 25ms/step - loss: 2.1085 - accuracy: 0.4242\n",
      "Epoch 13/50\n",
      "100/100 [==============================] - 2s 24ms/step - loss: 2.1018 - accuracy: 0.4192\n",
      "Epoch 14/50\n",
      "100/100 [==============================] - 2s 24ms/step - loss: 2.0686 - accuracy: 0.4426\n",
      "Epoch 15/50\n",
      "100/100 [==============================] - 2s 25ms/step - loss: 2.0617 - accuracy: 0.4384\n",
      "Epoch 16/50\n",
      "100/100 [==============================] - 3s 25ms/step - loss: 2.0408 - accuracy: 0.4554\n",
      "Epoch 17/50\n",
      "100/100 [==============================] - 2s 25ms/step - loss: 2.0517 - accuracy: 0.4260\n",
      "Epoch 18/50\n",
      "100/100 [==============================] - 2s 25ms/step - loss: 2.0392 - accuracy: 0.4646\n",
      "Epoch 19/50\n",
      "100/100 [==============================] - 3s 27ms/step - loss: 2.0363 - accuracy: 0.4564\n",
      "Epoch 20/50\n",
      "100/100 [==============================] - 3s 26ms/step - loss: 2.0365 - accuracy: 0.4602\n",
      "Epoch 21/50\n",
      "100/100 [==============================] - 2s 25ms/step - loss: 2.0273 - accuracy: 0.4570\n",
      "Epoch 22/50\n",
      "100/100 [==============================] - 3s 25ms/step - loss: 2.0199 - accuracy: 0.4646\n",
      "Epoch 23/50\n",
      "100/100 [==============================] - 2s 25ms/step - loss: 2.0167 - accuracy: 0.4620\n",
      "Epoch 24/50\n",
      "100/100 [==============================] - 2s 24ms/step - loss: 2.0215 - accuracy: 0.4720\n",
      "Epoch 25/50\n",
      "100/100 [==============================] - 3s 25ms/step - loss: 2.0064 - accuracy: 0.4782\n",
      "Epoch 26/50\n",
      "100/100 [==============================] - 2s 25ms/step - loss: 2.0152 - accuracy: 0.4544\n",
      "Epoch 27/50\n",
      "100/100 [==============================] - 2s 24ms/step - loss: 2.0069 - accuracy: 0.4726\n",
      "Epoch 28/50\n",
      "100/100 [==============================] - 3s 26ms/step - loss: 2.0063 - accuracy: 0.4742\n",
      "Epoch 29/50\n",
      "100/100 [==============================] - 2s 24ms/step - loss: 2.0013 - accuracy: 0.4776\n",
      "Epoch 30/50\n",
      "100/100 [==============================] - 3s 26ms/step - loss: 1.9964 - accuracy: 0.4738\n",
      "Epoch 31/50\n",
      "100/100 [==============================] - 2s 24ms/step - loss: 1.9950 - accuracy: 0.4782\n",
      "Epoch 32/50\n",
      "100/100 [==============================] - 3s 25ms/step - loss: 1.9968 - accuracy: 0.4868\n",
      "Epoch 33/50\n",
      "100/100 [==============================] - 2s 25ms/step - loss: 1.9913 - accuracy: 0.4726\n",
      "Epoch 34/50\n",
      "100/100 [==============================] - 2s 25ms/step - loss: 1.9952 - accuracy: 0.4808\n",
      "Epoch 35/50\n",
      "100/100 [==============================] - 3s 25ms/step - loss: 1.9969 - accuracy: 0.4874\n",
      "Epoch 36/50\n",
      "100/100 [==============================] - 3s 26ms/step - loss: 1.9920 - accuracy: 0.4754\n",
      "Epoch 37/50\n",
      "100/100 [==============================] - 3s 25ms/step - loss: 1.9826 - accuracy: 0.4798\n",
      "Epoch 38/50\n",
      "100/100 [==============================] - 2s 25ms/step - loss: 1.9856 - accuracy: 0.5058\n",
      "Epoch 39/50\n",
      "100/100 [==============================] - 2s 24ms/step - loss: 1.9864 - accuracy: 0.4812\n",
      "Epoch 40/50\n",
      " 84/100 [========================>.....] - ETA: 0s - loss: 1.9852 - accuracy: 0.4945"
     ]
    }
   ],
   "source": [
    "model.compile(optimizer=\"adam\", loss=\"categorical_crossentropy\",metrics=[\"accuracy\"])\n",
    "model.fit_generator(generator=training_generator,\n",
    "                                       steps_per_epoch=100,\n",
    "                                       epochs=50)"
   ]
  },
  {
   "cell_type": "code",
   "execution_count": null,
   "metadata": {},
   "outputs": [],
   "source": [
    "test_features = pd.read_pickle(\"test_features.pkl\")"
   ]
  },
  {
   "cell_type": "code",
   "execution_count": null,
   "metadata": {},
   "outputs": [],
   "source": [
    "scaled_test_features = minmax.transform(test_features)\n",
    "scaled_test_features = scaled_test_features+1\n",
    "scaled_test_features = np.nan_to_num(scaled_test_features)-1 "
   ]
  },
  {
   "cell_type": "code",
   "execution_count": null,
   "metadata": {},
   "outputs": [],
   "source": [
    "probs = model.predict(scaled_test_features)"
   ]
  },
  {
   "cell_type": "code",
   "execution_count": null,
   "metadata": {},
   "outputs": [],
   "source": [
    "probs = pd.DataFrame(probs, columns=colums)"
   ]
  },
  {
   "cell_type": "code",
   "execution_count": null,
   "metadata": {},
   "outputs": [],
   "source": [
    "probs[\"Outlier\"] = 0"
   ]
  },
  {
   "cell_type": "code",
   "execution_count": null,
   "metadata": {},
   "outputs": [],
   "source": [
    "probs.index = test_features.index"
   ]
  },
  {
   "cell_type": "code",
   "execution_count": null,
   "metadata": {},
   "outputs": [],
   "source": [
    "probs"
   ]
  },
  {
   "cell_type": "code",
   "execution_count": null,
   "metadata": {},
   "outputs": [],
   "source": []
  }
 ],
 "metadata": {
  "kernelspec": {
   "display_name": "Python 3",
   "language": "python",
   "name": "python3"
  },
  "language_info": {
   "codemirror_mode": {
    "name": "ipython",
    "version": 3
   },
   "file_extension": ".py",
   "mimetype": "text/x-python",
   "name": "python",
   "nbconvert_exporter": "python",
   "pygments_lexer": "ipython3",
   "version": "3.7.3"
  }
 },
 "nbformat": 4,
 "nbformat_minor": 2
}
